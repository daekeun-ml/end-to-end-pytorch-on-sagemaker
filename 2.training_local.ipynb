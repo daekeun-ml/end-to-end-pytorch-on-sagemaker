{
 "cells": [
  {
   "cell_type": "markdown",
   "metadata": {},
   "source": [
    "# Modlue 2. Training with CutMix\n",
    "---\n",
    "\n",
    "본 모듈에서는 Amzaon SageMaker API 호출 없이 PyTorch 프레임워크 자체 구현만으로 모델 훈련을 수행해 봅니다. PyTorch의 문법 및 용법에 익숙하신 분들은 이 모듈을 건너 뛰고 Module 3으로 곧바로 진행하셔도 됩니다.\n",
    "\n",
    "훈련을 원활하게 수행하시려면 GPU가 장착된 SageMaker notebook instance를 사용하셔야 합니다. (예: `ml.g4dn.xlarge, ml.p2.xlarge, ml.p3.2xlarge`)"
   ]
  },
  {
   "cell_type": "code",
   "execution_count": 1,
   "metadata": {},
   "outputs": [],
   "source": [
    "%load_ext autoreload\n",
    "%autoreload 2\n",
    "import pandas as pd\n",
    "import numpy as np\n",
    "import torch\n",
    "import torch.nn as nn\n",
    "import os\n",
    "import time, datetime\n",
    "import gc, glob2\n",
    "from PIL import Image\n",
    "\n",
    "import warnings\n",
    "warnings.filterwarnings('ignore')\n",
    "\n",
    "from torch.utils.data import Dataset\n",
    "from sklearn.metrics import recall_score\n",
    "\n",
    "import matplotlib.pyplot as plt\n",
    "import joblib\n",
    "\n",
    "HEIGHT = 137\n",
    "WIDTH = 236\n",
    "BATCH_SIZE = 256\n",
    "\n",
    "os.environ[\"CUDA_DEVICE_ORDER\"] = \"PCI_BUS_ID\"   # see issue #152\n",
    "os.environ[\"CUDA_VISIBLE_DEVICES\"] = \"0\""
   ]
  },
  {
   "cell_type": "markdown",
   "metadata": {},
   "source": [
    "## 1. Splits Data\n",
    "\n",
    "Metric 평가를 위해, 훈련 데이터셋/검증 데이터셋을 분리합니다. 본 핸즈온에서는 훈련 데이터셋을 5-fold로 분리 후 4번째 fold를 검증 데이터셋으로 사용하겠습니다."
   ]
  },
  {
   "cell_type": "code",
   "execution_count": 2,
   "metadata": {},
   "outputs": [],
   "source": [
    "train_df = pd.read_csv('./input/train_folds.csv')\n",
    "\n",
    "num_folds = 5\n",
    "vld_fold_idx = 4\n",
    "trn_fold = [i for i in range(num_folds) if i not in [vld_fold_idx]]\n",
    "vld_fold = [vld_fold_idx]\n",
    "\n",
    "trn_idx = train_df.loc[train_df['fold'].isin(trn_fold)].index\n",
    "vld_idx = train_df.loc[train_df['fold'].isin(vld_fold)].index"
   ]
  },
  {
   "cell_type": "markdown",
   "metadata": {},
   "source": [
    "## 2. Data Transformation w/ Augmentation\n",
    "\n",
    "본 핸즈온에서는 `albumentations` 패키지를 사용하여 Data augmentation을 수행합니다. 물론 `torchvision.transforms`에서도 이미 augmentation을 지원하고 있지만, 더 많은 augmentation 기법들을 지원하고 있으며 수행 속도 또한 훨씬 빠릅니다.\n",
    "관련 내용은 아래 URL을 참조해 주세요.\n",
    "\n",
    "- [Albumentations: fast and flexible image augmentations](https://arxiv.org/pdf/1809.06839.pdf)\n",
    "- [migrating_from_torchvision_to_albumentations.ipynb](https://github.com/albumentations-team/albumentations_examples/blob/master/notebooks/migrating_from_torchvision_to_albumentations.ipynb)"
   ]
  },
  {
   "cell_type": "code",
   "execution_count": 3,
   "metadata": {},
   "outputs": [],
   "source": [
    "import albumentations as A\n",
    "from albumentations import (\n",
    "    Rotate,HorizontalFlip, IAAPerspective, ShiftScaleRotate, CLAHE, RandomRotate90,\n",
    "    Transpose, ShiftScaleRotate, Blur, OpticalDistortion, GridDistortion, HueSaturationValue,\n",
    "    IAAAdditiveGaussianNoise, GaussNoise, MotionBlur, MedianBlur, RandomBrightnessContrast, IAAPiecewiseAffine,\n",
    "    IAASharpen, IAAEmboss, Flip, OneOf\n",
    ")\n",
    "from albumentations.pytorch.transforms import ToTensor\n",
    "\n",
    "train_transforms = A.Compose([\n",
    "    Rotate(20),\n",
    "        OneOf([\n",
    "            IAAAdditiveGaussianNoise(),\n",
    "            GaussNoise(),\n",
    "        ], p=0.2),\n",
    "        OneOf([\n",
    "            MotionBlur(p=.2),\n",
    "            MedianBlur(blur_limit=3, p=0.1),\n",
    "            Blur(blur_limit=3, p=0.1),\n",
    "        ], p=0.2),\n",
    "        ShiftScaleRotate(shift_limit=0.0625, scale_limit=0.2, rotate_limit=45, p=0.2),\n",
    "        OneOf([\n",
    "            OpticalDistortion(p=0.3),\n",
    "            GridDistortion(p=.1),\n",
    "            IAAPiecewiseAffine(p=0.3),\n",
    "        ], p=0.2),\n",
    "        OneOf([\n",
    "            CLAHE(clip_limit=2),\n",
    "            IAASharpen(),\n",
    "            IAAEmboss(),\n",
    "            RandomBrightnessContrast(),            \n",
    "        ], p=0.3),\n",
    "        HueSaturationValue(p=0.3),\n",
    "    ToTensor()\n",
    "    ], p=1.0)\n",
    "\n",
    "\n",
    "valid_transforms = A.Compose([\n",
    "    ToTensor()\n",
    "])"
   ]
  },
  {
   "cell_type": "markdown",
   "metadata": {},
   "source": [
    "## 3. Make DataLoader\n",
    "PyTorch는 미니배치를 쉽게 로딩할 수 있는 `torch.utils.data.Dataset`과 `torch.utils.data.DataLoader`를 제공하며, 이를 사용하여\n",
    "미니배치 셔플링(shuffling), 병렬 처리를 쉽게 구현할 수 있습니다.\n",
    "\n",
    "또한, `torch.utils.data.Dataset`을 상속받아 사용자 정의 Dataset을 아래와 같이 쉽게 구성할 수 있습니다.<br>\n",
    "사용자 정의 Dataset 구현의 기본적인 뼈대는 데이터셋 초기화에 필요한 `__init__(self)` 메서드, 데이터셋의 총 샘플 수를 리턴해 주는 `__len__(self)` 메서드, 특정 1개의 샘플을 가져오는 `__getitem__(self, index)` 메서드의 구현입니다."
   ]
  },
  {
   "cell_type": "markdown",
   "metadata": {},
   "source": [
    "### Get Images\n",
    "parquet 파일을 로딩하여 dataframe로 저장한 후, numpy array로 변환하여 전체 데이터셋을 메모리에 저장합니다.\n",
    "본 핸즈온은 데이터셋 크기가 크지 않아 전체 이미지 데이터를 메모리에 올렸지만, 수백만장 이상의 대용량 데이터 사용 시에는 데이터셋을 TFRecord, RecordIO와 같은 직렬 파일로 인코딩하여 저장하거나 각 이미지를 pickle로 저장해야 합니다."
   ]
  },
  {
   "cell_type": "code",
   "execution_count": 4,
   "metadata": {},
   "outputs": [
    {
     "name": "stdout",
     "output_type": "stream",
     "text": [
      "CPU times: user 30.4 s, sys: 22.7 s, total: 53.2 s\n",
      "Wall time: 21.3 s\n"
     ]
    }
   ],
   "source": [
    "%%time\n",
    "\n",
    "def get_images(data_dir='input', data_type='train'):\n",
    "    files = sorted(glob2.glob(f'{data_dir}/{data_type}_*.feather'))\n",
    "\n",
    "    image_df_list = [pd.read_feather(f) for f in files]\n",
    "    images = [df.iloc[:, 1:].values.reshape(-1, HEIGHT, WIDTH) for df in image_df_list]\n",
    "    del image_df_list\n",
    "    gc.collect()\n",
    "    images = np.concatenate(images, axis=0)\n",
    "    return images\n",
    "\n",
    "imgs = get_images(data_type='train')\n",
    "test_imgs = get_images(data_type='test')"
   ]
  },
  {
   "cell_type": "markdown",
   "metadata": {},
   "source": [
    "테스트 데이터를 `jpg` 파일로 변환하여 저장합니다. 이 파일들은 모델 배포 시 테스트 이미지로 활용하게 됩니다."
   ]
  },
  {
   "cell_type": "code",
   "execution_count": 5,
   "metadata": {},
   "outputs": [],
   "source": [
    "test_dir = os.path.join(os.getcwd(), 'test_imgs')\n",
    "os.makedirs(test_dir, exist_ok=True)\n",
    "\n",
    "for idx, img_arr in enumerate(test_imgs):\n",
    "    img = Image.fromarray(test_imgs[idx])\n",
    "    img.save(f'test_imgs/test_{idx}.jpg')"
   ]
  },
  {
   "cell_type": "markdown",
   "metadata": {},
   "source": [
    "### Custom Dataset 클래스 정의\n",
    "`__getitem__(self, idx)`을 통해 데이터셋 전체를 메모리에 올리지 않고 특정 샘플이 필요할 때에만 불러와서 읽습니다."
   ]
  },
  {
   "cell_type": "code",
   "execution_count": 6,
   "metadata": {},
   "outputs": [],
   "source": [
    "class BangaliDataset(Dataset):\n",
    "    def __init__(self, imgs, label_df=None, transform=None):\n",
    "        self.imgs = imgs\n",
    "        self.label_df = label_df.reset_index(drop=True)\n",
    "        self.transform = transform\n",
    "        \n",
    "    def __len__(self):\n",
    "        return len(self.label_df)\n",
    "    \n",
    "    def __getitem__(self, idx):\n",
    "        \n",
    "        img_idx = self.label_df.iloc[idx].id\n",
    "        img = (self.imgs[img_idx]).astype(np.uint8)\n",
    "        img = 255 - img\n",
    "    \n",
    "        img = img[:,:,np.newaxis]\n",
    "        img = np.repeat(img, 3, axis=2)\n",
    "        \n",
    "        if self.transform is not None:\n",
    "            img = self.transform(image=img)['image']        \n",
    "        \n",
    "        if self.label_df is not None:\n",
    "            label_1 = self.label_df.iloc[idx].grapheme_root\n",
    "            label_2 = self.label_df.iloc[idx].vowel_diacritic\n",
    "            label_3 = self.label_df.iloc[idx].consonant_diacritic           \n",
    "            return img, np.array([label_1, label_2, label_3])        \n",
    "        else:\n",
    "            return img"
   ]
  },
  {
   "cell_type": "markdown",
   "metadata": {},
   "source": [
    "### Dataset 인스턴스 생성"
   ]
  },
  {
   "cell_type": "code",
   "execution_count": 7,
   "metadata": {},
   "outputs": [],
   "source": [
    "from torch.utils.data import Dataset, DataLoader\n",
    "trn_dataset = BangaliDataset(imgs=imgs, label_df=train_df.loc[trn_idx], transform=train_transforms)\n",
    "vld_dataset = BangaliDataset(imgs=imgs, label_df=train_df.loc[vld_idx], transform=valid_transforms)"
   ]
  },
  {
   "cell_type": "code",
   "execution_count": 8,
   "metadata": {},
   "outputs": [
    {
     "data": {
      "text/plain": [
       "<matplotlib.image.AxesImage at 0x7f0f183a99e8>"
      ]
     },
     "execution_count": 8,
     "metadata": {},
     "output_type": "execute_result"
    },
    {
     "data": {
      "image/png": "[encoded data removed]",
      "text/plain": [
       "<Figure size 432x288 with 1 Axes>"
      ]
     },
     "metadata": {
      "needs_background": "light"
     },
     "output_type": "display_data"
    }
   ],
   "source": [
    "idx = np.random.randint(len(trn_idx))\n",
    "img_sample = trn_dataset[idx][0].permute(1, 2, 0).numpy().squeeze()\n",
    "plt.imshow(img_sample, cmap='gray')"
   ]
  },
  {
   "cell_type": "markdown",
   "metadata": {},
   "source": [
    "### DataLoader 인스턴스 생성"
   ]
  },
  {
   "cell_type": "code",
   "execution_count": 9,
   "metadata": {},
   "outputs": [],
   "source": [
    "trn_loader = DataLoader(trn_dataset, shuffle=True, num_workers=4, batch_size=BATCH_SIZE)\n",
    "vld_loader = DataLoader(vld_dataset, shuffle=False, num_workers=4, batch_size=BATCH_SIZE)"
   ]
  },
  {
   "cell_type": "markdown",
   "metadata": {},
   "source": [
    "## 4. Make model, optimizer, and criterion for Transfer Learning"
   ]
  },
  {
   "cell_type": "markdown",
   "metadata": {},
   "source": [
    "모델 파라메터들을 random 분포로 초기화화여 훈련하는 것보다 이미 ImageNet 데이터로 pre-trained되어 있는 모델 파라메터를 사용하는 것이 더 효율적으로 훈련을 수행하는 방법입니다. \n",
    "어떤 모델을 사용해도 무방하지만, 본 핸즈온에서는 비교적 간단한 모델인 ResNet-18을 사용하도록 하겠습니다."
   ]
  },
  {
   "cell_type": "code",
   "execution_count": 10,
   "metadata": {},
   "outputs": [],
   "source": [
    "from torchvision import datasets, models\n",
    "\n",
    "model = models.resnet18(pretrained=True)\n",
    "last_hidden_units = model.fc.in_features\n",
    "model.fc = torch.nn.Linear(last_hidden_units, 186)\n",
    "model = model.cuda()"
   ]
  },
  {
   "cell_type": "code",
   "execution_count": 11,
   "metadata": {},
   "outputs": [],
   "source": [
    "optimizer = torch.optim.Adam(model.parameters(), lr=0.001)\n",
    "loss_fn = nn.CrossEntropyLoss()\n",
    "scheduler = torch.optim.lr_scheduler.ReduceLROnPlateau(optimizer, mode='max',\n",
    "                                                      verbose=True, patience=5, \n",
    "                                                      factor=0.5)"
   ]
  },
  {
   "cell_type": "markdown",
   "metadata": {},
   "source": [
    "## 5. Training\n",
    "`ml.p3.2xlarge` 노트북 인스턴스 기준으로 epoch당 5분 30초~5분 40초 정도 소요됩니다. 원활한 핸즈온을 위해 본 section은 건너뛰어도 되며, 이미 훈련이 완료된 모델을 그대로 사용하시면 됩니다."
   ]
  },
  {
   "cell_type": "code",
   "execution_count": 12,
   "metadata": {},
   "outputs": [
    {
     "name": "stdout",
     "output_type": "stream",
     "text": [
      "[Epoch 0 Batch 10/628] loss: 3.2372\n",
      "[Epoch 0 Batch 20/628] loss: 2.8627\n",
      "[Epoch 0 Batch 30/628] loss: 2.7950\n",
      "[Epoch 0 Batch 40/628] loss: 2.6108\n",
      "[Epoch 0 Batch 50/628] loss: 2.5066\n",
      "[Epoch 0 Batch 60/628] loss: 1.9175\n",
      "[Epoch 0 Batch 70/628] loss: 2.0307\n",
      "[Epoch 0 Batch 80/628] loss: 1.9274\n",
      "[Epoch 0 Batch 90/628] loss: 2.0999\n",
      "[Epoch 0 Batch 100/628] loss: 1.8995\n",
      "[Epoch 0 Batch 110/628] loss: 1.5218\n",
      "[Epoch 0 Batch 120/628] loss: 0.9903\n",
      "[Epoch 0 Batch 130/628] loss: 1.1273\n",
      "[Epoch 0 Batch 140/628] loss: 1.5246\n",
      "[Epoch 0 Batch 150/628] loss: 1.8000\n",
      "[Epoch 0 Batch 160/628] loss: 1.6288\n",
      "[Epoch 0 Batch 170/628] loss: 1.8893\n",
      "[Epoch 0 Batch 180/628] loss: 1.3271\n",
      "[Epoch 0 Batch 190/628] loss: 1.2156\n",
      "[Epoch 0 Batch 200/628] loss: 1.4634\n",
      "[Epoch 0 Batch 210/628] loss: 1.3027\n",
      "[Epoch 0 Batch 220/628] loss: 1.2499\n",
      "[Epoch 0 Batch 230/628] loss: 1.2233\n",
      "[Epoch 0 Batch 240/628] loss: 2.1157\n",
      "[Epoch 0 Batch 250/628] loss: 1.4742\n",
      "[Epoch 0 Batch 260/628] loss: 1.5566\n",
      "[Epoch 0 Batch 270/628] loss: 1.0336\n",
      "[Epoch 0 Batch 280/628] loss: 1.1931\n",
      "[Epoch 0 Batch 290/628] loss: 1.0451\n",
      "[Epoch 0 Batch 300/628] loss: 1.4396\n",
      "[Epoch 0 Batch 310/628] loss: 1.7498\n",
      "[Epoch 0 Batch 320/628] loss: 2.0371\n",
      "[Epoch 0 Batch 330/628] loss: 1.2632\n",
      "[Epoch 0 Batch 340/628] loss: 1.3391\n",
      "[Epoch 0 Batch 350/628] loss: 0.8474\n",
      "[Epoch 0 Batch 360/628] loss: 1.3354\n",
      "[Epoch 0 Batch 370/628] loss: 1.2182\n",
      "[Epoch 0 Batch 380/628] loss: 1.1371\n",
      "[Epoch 0 Batch 390/628] loss: 1.2102\n",
      "[Epoch 0 Batch 400/628] loss: 1.3727\n",
      "[Epoch 0 Batch 410/628] loss: 1.4045\n",
      "[Epoch 0 Batch 420/628] loss: 1.4467\n",
      "[Epoch 0 Batch 430/628] loss: 1.1074\n",
      "[Epoch 0 Batch 440/628] loss: 1.7597\n",
      "[Epoch 0 Batch 450/628] loss: 1.1063\n",
      "[Epoch 0 Batch 460/628] loss: 1.2951\n",
      "[Epoch 0 Batch 470/628] loss: 1.3127\n",
      "[Epoch 0 Batch 480/628] loss: 1.2014\n",
      "[Epoch 0 Batch 490/628] loss: 1.4440\n",
      "[Epoch 0 Batch 500/628] loss: 1.2327\n",
      "[Epoch 0 Batch 510/628] loss: 1.1736\n",
      "[Epoch 0 Batch 520/628] loss: 1.4832\n",
      "[Epoch 0 Batch 530/628] loss: 1.1469\n",
      "[Epoch 0 Batch 540/628] loss: 1.4482\n",
      "[Epoch 0 Batch 550/628] loss: 1.4754\n",
      "[Epoch 0 Batch 560/628] loss: 1.2381\n",
      "[Epoch 0 Batch 570/628] loss: 1.8034\n",
      "[Epoch 0 Batch 580/628] loss: 1.3201\n",
      "[Epoch 0 Batch 590/628] loss: 1.3472\n",
      "[Epoch 0 Batch 600/628] loss: 1.2838\n",
      "[Epoch 0 Batch 610/628] loss: 2.2140\n",
      "[Epoch 0 Batch 620/628] loss: 1.5442\n",
      "== Start Validation ==\n",
      "[Epoch 0] trn_loss: 1.5474, vld_loss: 1.2164, score: 0.8985, score_each: [0.8667, 0.9351, 0.9253]\n"
     ]
    }
   ],
   "source": [
    "from tqdm import tqdm\n",
    "\n",
    "def rand_bbox(size, lam):\n",
    "    '''\n",
    "    CutMix Helper function.\n",
    "    Retrieved from https://github.com/clovaai/CutMix-PyTorch/blob/master/train.py\n",
    "    '''\n",
    "    W = size[2]\n",
    "    H = size[3]\n",
    "    # 폭과 높이는 주어진 이미지의 폭과 높이의 beta distribution에서 뽑은 lambda로 얻는다\n",
    "    cut_rat = np.sqrt(1. - lam)\n",
    "    \n",
    "    # patch size 의 w, h 는 original image 의 w,h 에 np.sqrt(1-lambda) 를 곱해준 값입니다.\n",
    "    cut_w = np.int(W * cut_rat)\n",
    "    cut_h = np.int(H * cut_rat)\n",
    "\n",
    "    # patch의 중심점은 uniform하게 뽑힘\n",
    "    cx = np.random.randint(W)\n",
    "    cy = np.random.randint(H)\n",
    "\n",
    "    bbx1 = np.clip(cx - cut_w // 2, 0, W)\n",
    "    bby1 = np.clip(cy - cut_h // 2, 0, H)\n",
    "    bbx2 = np.clip(cx + cut_w // 2, 0, W)\n",
    "    bby2 = np.clip(cy + cut_h // 2, 0, H)\n",
    "\n",
    "    return bbx1, bby1, bbx2, bby2\n",
    "\n",
    "def format_time(elapsed):\n",
    "    '''\n",
    "    Takes a time in seconds and returns a string hh:mm:ss\n",
    "    '''\n",
    "    # Round to the nearest second.\n",
    "    elapsed_rounded = int(round((elapsed)))\n",
    "    \n",
    "    # Format as hh:mm:ss\n",
    "    return str(datetime.timedelta(seconds=elapsed_rounded))\n",
    "\n",
    "best_score = -1\n",
    "log_interval = 10\n",
    "training_stats = []\n",
    "num_epochs = 1\n",
    "\n",
    "for epoch_id in range(num_epochs):\n",
    "\n",
    "    ################################################################################\n",
    "    # ==> Training phase\n",
    "    ################################################################################    \n",
    "    trn_loss = []\n",
    "    model.train()\n",
    "    \n",
    "    # Measure how long the training epoch takes.\n",
    "    t0 = time.time()\n",
    "    running_loss = 0.0\n",
    "    \n",
    "    for batch_id, (inputs, targets) in enumerate((trn_loader)):\n",
    "        inputs = inputs.cuda()\n",
    "        targets = targets.cuda()\n",
    "        targets_gra = targets[:, 0]\n",
    "        targets_vow = targets[:, 1]\n",
    "        targets_con = targets[:, 2]\n",
    "                    \n",
    "        # 50%의 확률로 원본 데이터 그대로 사용    \n",
    "        if np.random.rand() < 0.5:\n",
    "            logits = model(inputs)\n",
    "            grapheme = logits[:, :168]\n",
    "            vowel = logits[:, 168:179]\n",
    "            cons = logits[:, 179:]\n",
    "            \n",
    "            loss1 = loss_fn(grapheme, targets_gra)\n",
    "            loss2 = loss_fn(vowel, targets_vow)\n",
    "            loss3 = loss_fn(cons, targets_con) \n",
    "        \n",
    "        else:\n",
    "            \n",
    "            lam = np.random.beta(1.0, 1.0) \n",
    "            rand_index = torch.randperm(inputs.size()[0])\n",
    "            shuffled_targets_gra = targets_gra[rand_index]\n",
    "            shuffled_targets_vow = targets_vow[rand_index]\n",
    "            shuffled_targets_con = targets_con[rand_index]\n",
    "            \n",
    "            bbx1, bby1, bbx2, bby2 = rand_bbox(inputs.size(), lam)\n",
    "            inputs[:, :, bbx1:bbx2, bby1:bby2] = inputs[rand_index, :, bbx1:bbx2, bby1:bby2]\n",
    "            # 픽셀 비율과 정확히 일치하도록 lambda 파라메터 조정  \n",
    "            lam = 1 - ((bbx2 - bbx1) * (bby2 - bby1) / (inputs.size()[-1] * inputs.size()[-2]))\n",
    "            \n",
    "            logits = model(inputs)\n",
    "            grapheme = logits[:,:168]\n",
    "            vowel = logits[:, 168:179]\n",
    "            cons = logits[:, 179:]\n",
    "            \n",
    "            loss1 = loss_fn(grapheme, targets_gra) * lam + loss_fn(grapheme, shuffled_targets_gra) * (1. - lam)\n",
    "            loss2 = loss_fn(vowel, targets_vow) * lam + loss_fn(vowel, shuffled_targets_vow) * (1. - lam)\n",
    "            loss3 = loss_fn(cons, targets_con) * lam + loss_fn(cons, shuffled_targets_con) * (1. - lam)\n",
    "        \n",
    "        loss = 0.5 * loss1 + 0.25 * loss2 + 0.25 * loss3    \n",
    "        trn_loss.append(loss.item())\n",
    "        running_loss += loss.item()\n",
    "        loss.backward()\n",
    "\n",
    "        optimizer.step()\n",
    "        optimizer.zero_grad()\n",
    "\n",
    "        # Printing vital information\n",
    "        if (batch_id + 1) % (log_interval) == 0:\n",
    "            s = f'[Epoch {epoch_id} Batch {batch_id+1}/{len(trn_loader)}] ' \\\n",
    "            f'loss: {running_loss / log_interval:.4f}'\n",
    "            print(s)\n",
    "            running_loss = 0\n",
    "\n",
    "    # Measure how long this epoch took.\n",
    "    trn_time = format_time(time.time() - t0)        \n",
    "\n",
    "    ################################################################################\n",
    "    # ==> Validation phase\n",
    "    ################################################################################\n",
    "    val_loss = []\n",
    "    val_true = []\n",
    "    val_pred = []\n",
    "    model.eval()\n",
    "\n",
    "    with torch.no_grad():\n",
    "        for inputs, targets in vld_loader:\n",
    "            inputs = inputs.cuda()\n",
    "            targets = targets.cuda()\n",
    "            logits = model(inputs)\n",
    "            grapheme = logits[:,:168]\n",
    "            vowel = logits[:, 168:179]\n",
    "            cons = logits[:, 179:]\n",
    "\n",
    "            loss= 0.5* loss_fn(grapheme, targets[:,0]) + 0.25*loss_fn(vowel, targets[:,1]) + \\\n",
    "            0.25*loss_fn(vowel, targets[:,2])\n",
    "            val_loss.append(loss.item())\n",
    "\n",
    "\n",
    "            grapheme = grapheme.cpu().argmax(dim=1).data.numpy()\n",
    "            vowel = vowel.cpu().argmax(dim=1).data.numpy()\n",
    "            cons = cons.cpu().argmax(dim=1).data.numpy()\n",
    "\n",
    "            val_true.append(targets.cpu().numpy())\n",
    "            val_pred.append(np.stack([grapheme, vowel, cons], axis=1))                \n",
    "\n",
    "    val_true = np.concatenate(val_true)\n",
    "    val_pred = np.concatenate(val_pred)\n",
    "    val_loss = np.mean(val_loss)\n",
    "    trn_loss = np.mean(trn_loss)\n",
    "\n",
    "    score_g = recall_score(val_true[:,0], val_pred[:,0], average='macro')\n",
    "    score_v = recall_score(val_true[:,1], val_pred[:,1], average='macro')\n",
    "    score_c = recall_score(val_true[:,2], val_pred[:,2], average='macro')\n",
    "    final_score = np.average([score_g, score_v, score_c], weights=[2,1,1])\n",
    "   \n",
    "    # Printing vital information\n",
    "    print('== Start Validation ==')\n",
    "    s = f'[Epoch {epoch_id}] ' \\\n",
    "    f'trn_loss: {trn_loss:.4f}, vld_loss: {val_loss:.4f}, score: {final_score:.4f}, ' \\\n",
    "    f'score_each: [{score_g:.4f}, {score_v:.4f}, {score_c:.4f}]'          \n",
    "    print(s)\n",
    "\n",
    "    ################################################################################\n",
    "    # ==> Save checkpoint and training stats\n",
    "    ################################################################################        \n",
    "    if final_score > best_score:\n",
    "        best_score = final_score\n",
    "        state_dict = model.cpu().state_dict()\n",
    "        model = model.cuda()\n",
    "        torch.save(state_dict, 'model.pth')\n",
    "        \n",
    "    # Record all statistics from this epoch\n",
    "    training_stats.append(\n",
    "        {\n",
    "            'epoch': epoch_id + 1,\n",
    "            'trn_loss': trn_loss,\n",
    "            'trn_time': trn_time,            \n",
    "            'val_loss': val_loss,\n",
    "            'score': final_score,\n",
    "            'score_g': score_g,\n",
    "            'score_v': score_v,\n",
    "            'score_c': score_c            \n",
    "        }\n",
    "    )            "
   ]
  },
  {
   "cell_type": "markdown",
   "metadata": {},
   "source": [
    "## 6. Check training results\n",
    "\n",
    "훈련 결과를 간단히 살펴봅니다."
   ]
  },
  {
   "cell_type": "code",
   "execution_count": 13,
   "metadata": {},
   "outputs": [
    {
     "data": {
      "text/html": [
       "<div>\n",
       "<style scoped>\n",
       "    .dataframe tbody tr th:only-of-type {\n",
       "        vertical-align: middle;\n",
       "    }\n",
       "\n",
       "    .dataframe tbody tr th {\n",
       "        vertical-align: top;\n",
       "    }\n",
       "\n",
       "    .dataframe thead th {\n",
       "        text-align: right;\n",
       "    }\n",
       "</style>\n",
       "<table border=\"1\" class=\"dataframe\">\n",
       "  <thead>\n",
       "    <tr style=\"text-align: right;\">\n",
       "      <th></th>\n",
       "      <th>trn_loss</th>\n",
       "      <th>trn_time</th>\n",
       "      <th>val_loss</th>\n",
       "      <th>score</th>\n",
       "      <th>score_g</th>\n",
       "      <th>score_v</th>\n",
       "      <th>score_c</th>\n",
       "    </tr>\n",
       "    <tr>\n",
       "      <th>epoch</th>\n",
       "      <th></th>\n",
       "      <th></th>\n",
       "      <th></th>\n",
       "      <th></th>\n",
       "      <th></th>\n",
       "      <th></th>\n",
       "      <th></th>\n",
       "    </tr>\n",
       "  </thead>\n",
       "  <tbody>\n",
       "    <tr>\n",
       "      <th>1</th>\n",
       "      <td>1.5474</td>\n",
       "      <td>0:11:14</td>\n",
       "      <td>1.2164</td>\n",
       "      <td>0.8985</td>\n",
       "      <td>0.8667</td>\n",
       "      <td>0.9351</td>\n",
       "      <td>0.9253</td>\n",
       "    </tr>\n",
       "  </tbody>\n",
       "</table>\n",
       "</div>"
      ],
      "text/plain": [
       "       trn_loss trn_time  val_loss   score  score_g  score_v  score_c\n",
       "epoch                                                                \n",
       "1        1.5474  0:11:14    1.2164  0.8985   0.8667   0.9351   0.9253"
      ]
     },
     "metadata": {},
     "output_type": "display_data"
    }
   ],
   "source": [
    "import pandas as pd\n",
    "pd.set_option('precision', 4)\n",
    "\n",
    "df_stats = pd.DataFrame(data=training_stats)\n",
    "df_stats = df_stats.set_index('epoch')\n",
    "display(df_stats)\n",
    "\n",
    "#model.load_state_dict(torch.load('./model.pth'))"
   ]
  }
 ],
 "metadata": {
  "kernelspec": {
   "display_name": "conda_pytorch_p36",
   "language": "python",
   "name": "conda_pytorch_p36"
  },
  "language_info": {
   "codemirror_mode": {
    "name": "ipython",
    "version": 3
   },
   "file_extension": ".py",
   "mimetype": "text/x-python",
   "name": "python",
   "nbconvert_exporter": "python",
   "pygments_lexer": "ipython3",
   "version": "3.6.13"
  }
 },
 "nbformat": 4,
 "nbformat_minor": 4
}
